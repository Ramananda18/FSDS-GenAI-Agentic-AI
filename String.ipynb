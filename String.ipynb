{
 "cells": [
  {
   "cell_type": "code",
   "execution_count": 1,
   "id": "ee1d1f86-5664-4dbd-bdb7-4a326c1c033f",
   "metadata": {},
   "outputs": [],
   "source": [
    "a='Hello World!'"
   ]
  },
  {
   "cell_type": "code",
   "execution_count": 11,
   "id": "8329e602-e577-43d8-bfe6-2416ca8a18e7",
   "metadata": {},
   "outputs": [
    {
     "name": "stdout",
     "output_type": "stream",
     "text": [
      "Hello World!\n"
     ]
    }
   ],
   "source": [
    "b=\"Hello World!\"\n",
    "print(b)"
   ]
  },
  {
   "cell_type": "code",
   "execution_count": 10,
   "id": "458ee696-4c13-41aa-bb2d-cf02f223694e",
   "metadata": {},
   "outputs": [
    {
     "name": "stdout",
     "output_type": "stream",
     "text": [
      "Hello World!\n"
     ]
    }
   ],
   "source": [
    "print(a)"
   ]
  },
  {
   "cell_type": "code",
   "execution_count": 14,
   "id": "0c4711aa-ea81-4894-8fb3-ddba7d5b06ad",
   "metadata": {},
   "outputs": [
    {
     "name": "stdout",
     "output_type": "stream",
     "text": [
      "\"Hello World!\"\n"
     ]
    }
   ],
   "source": [
    "c='\"Hello World!\"'\n",
    "print (c)"
   ]
  },
  {
   "cell_type": "code",
   "execution_count": 16,
   "id": "06a11c10-c3e1-4bb5-8a41-7ab1ffbff0e5",
   "metadata": {},
   "outputs": [
    {
     "name": "stdout",
     "output_type": "stream",
     "text": [
      "Hello \n",
      "World!\n"
     ]
    }
   ],
   "source": [
    "d='''Hello \n",
    "World!'''\n",
    "print (d)"
   ]
  },
  {
   "cell_type": "code",
   "execution_count": 17,
   "id": "6aa0ee1e-09fa-496e-b490-d31b0dd880d9",
   "metadata": {},
   "outputs": [
    {
     "data": {
      "text/plain": [
       "'Paris rabbit got your back'"
      ]
     },
     "execution_count": 17,
     "metadata": {},
     "output_type": "execute_result"
    }
   ],
   "source": [
    "'Paris rabbit got your back'"
   ]
  },
  {
   "cell_type": "code",
   "execution_count": 18,
   "id": "dfa8d46d-8134-4712-bb98-81a189e13a35",
   "metadata": {},
   "outputs": [
    {
     "data": {
      "text/plain": [
       "'Paris rabbit got your back :) Yay!'"
      ]
     },
     "execution_count": 18,
     "metadata": {},
     "output_type": "execute_result"
    }
   ],
   "source": [
    "\"Paris rabbit got your back :) Yay!\""
   ]
  },
  {
   "cell_type": "code",
   "execution_count": 19,
   "id": "732d8c69-29c3-4131-9063-211eb605d45a",
   "metadata": {},
   "outputs": [
    {
     "data": {
      "text/plain": [
       "'1975'"
      ]
     },
     "execution_count": 19,
     "metadata": {},
     "output_type": "execute_result"
    }
   ],
   "source": [
    "'1975'"
   ]
  },
  {
   "cell_type": "code",
   "execution_count": 21,
   "id": "5039644a-291c-4ca8-9d12-0b8e8b53982e",
   "metadata": {},
   "outputs": [
    {
     "data": {
      "text/plain": [
       "\"doesn't\""
      ]
     },
     "execution_count": 21,
     "metadata": {},
     "output_type": "execute_result"
    }
   ],
   "source": [
    "'doesn\\'t' #use\\' to escape the single quote"
   ]
  },
  {
   "cell_type": "code",
   "execution_count": 22,
   "id": "e6693044-7375-4fcc-a2dd-3ba6b9ef7e73",
   "metadata": {},
   "outputs": [
    {
     "data": {
      "text/plain": [
       "\"doesn't\""
      ]
     },
     "execution_count": 22,
     "metadata": {},
     "output_type": "execute_result"
    }
   ],
   "source": [
    "\"doesn't\" #........or use double quotes instead"
   ]
  },
  {
   "cell_type": "code",
   "execution_count": 23,
   "id": "3492b3dc-4316-493d-bec8-d5419bbf93be",
   "metadata": {},
   "outputs": [
    {
     "data": {
      "text/plain": [
       "'\"yes\",they said'"
      ]
     },
     "execution_count": 23,
     "metadata": {},
     "output_type": "execute_result"
    }
   ],
   "source": [
    "'\"yes\",they said'"
   ]
  },
  {
   "cell_type": "code",
   "execution_count": 25,
   "id": "4e801902-013c-4bc5-ad4a-96477d9ea322",
   "metadata": {},
   "outputs": [
    {
     "data": {
      "text/plain": [
       "'\"Yes\",they said'"
      ]
     },
     "execution_count": 25,
     "metadata": {},
     "output_type": "execute_result"
    }
   ],
   "source": [
    "\"\\\"Yes\\\",they said\""
   ]
  },
  {
   "cell_type": "code",
   "execution_count": 38,
   "id": "638565aa-72e1-425d-b9d6-4e2f7da8e76b",
   "metadata": {},
   "outputs": [
    {
     "data": {
      "text/plain": [
       "'\"Isn\\'t\", they said'"
      ]
     },
     "execution_count": 38,
     "metadata": {},
     "output_type": "execute_result"
    }
   ],
   "source": [
    "\"\\\"Isn\\'t\"\"\\\", they said\""
   ]
  },
  {
   "cell_type": "code",
   "execution_count": 32,
   "id": "5b29d7a0-b4bb-4f9d-b712-437d3ca28da1",
   "metadata": {},
   "outputs": [
    {
     "name": "stdout",
     "output_type": "stream",
     "text": [
      "First Line. \n",
      "Second Line\n"
     ]
    }
   ],
   "source": [
    "S='First Line. \\nSecond Line'\n",
    "print(S)"
   ]
  },
  {
   "cell_type": "code",
   "execution_count": 33,
   "id": "eec96416-63a2-461e-9697-967a27c4f438",
   "metadata": {},
   "outputs": [
    {
     "name": "stdout",
     "output_type": "stream",
     "text": [
      "C:\\some\n",
      "ame\n"
     ]
    }
   ],
   "source": [
    "print('C:\\some\\name') #here\\n means newline!"
   ]
  },
  {
   "cell_type": "code",
   "execution_count": 34,
   "id": "9f25fbf4-253f-4f4b-a90c-51c97996b691",
   "metadata": {},
   "outputs": [
    {
     "name": "stdout",
     "output_type": "stream",
     "text": [
      "C:\\some\\name\n"
     ]
    }
   ],
   "source": [
    "print(r'C:\\some\\name') #note the r before the quote"
   ]
  },
  {
   "cell_type": "code",
   "execution_count": 35,
   "id": "b7ecc1ca-0911-4f11-bc23-1166466717c5",
   "metadata": {},
   "outputs": [
    {
     "data": {
      "text/plain": [
       "'umumumium'"
      ]
     },
     "execution_count": 35,
     "metadata": {},
     "output_type": "execute_result"
    }
   ],
   "source": [
    "3*'um'+'ium'\n"
   ]
  },
  {
   "cell_type": "code",
   "execution_count": 36,
   "id": "ad1d3c2f-ab30-4ce8-99c1-bba300bed9e9",
   "metadata": {},
   "outputs": [
    {
     "data": {
      "text/plain": [
       "'python'"
      ]
     },
     "execution_count": 36,
     "metadata": {},
     "output_type": "execute_result"
    }
   ],
   "source": [
    "'py''thon'"
   ]
  },
  {
   "cell_type": "code",
   "execution_count": 40,
   "id": "d29c9782-318e-4550-879d-1bf0764d8fe9",
   "metadata": {},
   "outputs": [
    {
     "data": {
      "text/plain": [
       "'Put several strings wihin parenthesesto have them joined together.'"
      ]
     },
     "execution_count": 40,
     "metadata": {},
     "output_type": "execute_result"
    }
   ],
   "source": [
    "text=('Put several strings wihin parentheses'\n",
    "      'to have them joined together.')\n",
    "text"
   ]
  },
  {
   "cell_type": "code",
   "execution_count": 42,
   "id": "6c2c1ad3-6247-44d1-93c1-a64a746e082e",
   "metadata": {},
   "outputs": [
    {
     "data": {
      "text/plain": [
       "'Python'"
      ]
     },
     "execution_count": 42,
     "metadata": {},
     "output_type": "execute_result"
    }
   ],
   "source": [
    "Prefix='Py'\n",
    "Prefix+'thon'"
   ]
  },
  {
   "cell_type": "code",
   "execution_count": 45,
   "id": "9d995f95-1b29-452a-9391-28924536ad24",
   "metadata": {},
   "outputs": [
    {
     "data": {
      "text/plain": [
       "'d'"
      ]
     },
     "execution_count": 45,
     "metadata": {},
     "output_type": "execute_result"
    }
   ],
   "source": [
    "S='Ramananda'\n",
    "S[7]"
   ]
  },
  {
   "cell_type": "code",
   "execution_count": 3,
   "id": "e700f772-127f-45cd-a6e3-5d02aefd8d55",
   "metadata": {},
   "outputs": [
    {
     "ename": "NameError",
     "evalue": "name 'S' is not defined",
     "output_type": "error",
     "traceback": [
      "\u001b[1;31m---------------------------------------------------------------------------\u001b[0m",
      "\u001b[1;31mNameError\u001b[0m                                 Traceback (most recent call last)",
      "Cell \u001b[1;32mIn[3], line 1\u001b[0m\n\u001b[1;32m----> 1\u001b[0m S[\u001b[38;5;241m-\u001b[39m\u001b[38;5;241m7\u001b[39m]\n",
      "\u001b[1;31mNameError\u001b[0m: name 'S' is not defined"
     ]
    }
   ],
   "source": []
  },
  {
   "cell_type": "code",
   "execution_count": 2,
   "id": "e62fc4b1-832e-42a5-9343-787a91894ec3",
   "metadata": {},
   "outputs": [
    {
     "data": {
      "text/plain": [
       "'{\"dataframes\": [], \"user\": \"Blossom\"}'"
      ]
     },
     "execution_count": 2,
     "metadata": {},
     "output_type": "execute_result"
    }
   ],
   "source": []
  },
  {
   "cell_type": "code",
   "execution_count": null,
   "id": "2470fc7d-2ae3-43e7-827c-64ba65f214f6",
   "metadata": {},
   "outputs": [],
   "source": []
  }
 ],
 "metadata": {
  "kernelspec": {
   "display_name": "Python [conda env:base] *",
   "language": "python",
   "name": "conda-base-py"
  },
  "language_info": {
   "codemirror_mode": {
    "name": "ipython",
    "version": 3
   },
   "file_extension": ".py",
   "mimetype": "text/x-python",
   "name": "python",
   "nbconvert_exporter": "python",
   "pygments_lexer": "ipython3",
   "version": "3.13.5"
  }
 },
 "nbformat": 4,
 "nbformat_minor": 5
}
